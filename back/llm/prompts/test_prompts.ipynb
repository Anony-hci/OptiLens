{
 "cells": [
  {
   "cell_type": "code",
   "execution_count": 1,
   "metadata": {},
   "outputs": [
    {
     "name": "stdout",
     "output_type": "stream",
     "text": [
      "[{'课程名': '微积分A(2)', '主讲教师': '晏平', '学分': '5', '上课时间': '3-2(全周);5-1(全周)', '开课院系': '数学教学中心', '掉课率': '43.16'}]\n"
     ]
    }
   ],
   "source": [
    "import sys\n",
    "sys.path.append('/Users/jokwon/Desktop/IterOpti-web/back')\n",
    "\n",
    "from components.scheduler import case1_course\n",
    "user_input, items, course_list = case1_course()\n",
    "print(items[:1])"
   ]
  },
  {
   "cell_type": "code",
   "execution_count": 2,
   "metadata": {},
   "outputs": [
    {
     "name": "stdout",
     "output_type": "stream",
     "text": [
      "{ \"entities\": [\"上课节次为[3,4,5]的课程数量\"] }\n",
      "=== extract_entities prompt===\n",
      " system: \n",
      "Your task is to extract entities from a user instruction concerning course scheduling, excluding conditions and parameters. Use course data attributes to express these entities.\n",
      "\n",
      "— Course Data Attributes —\n",
      "\n",
      "The course includes five columns: 课程名，学分，主讲教师，上课时间，掉课率。\n",
      "上课时间包括三个部分，格式为x-y(z)。\n",
      "1. x for weekday (e.g., 4 means Thursday).\n",
      "2. y for period (e.g., 1 means the first period). 早上包括periods[1,2], period-1(8:00~9:35), period-2(9:50~12:15); 下午包括periods[3,4,5], period-3(13:30~15:05), period-4(15:20~16:55), period-5(17:05~18:40); 晚上包括periods[6], period-6(19:20~21:45).\n",
      "3. z for week (e.g., 1-8 means the first eight weeks).\n",
      "\n",
      "Class Time Examples：\n",
      "（1）2-3(全周): the class of third period on Tuesday.\n",
      "（2）3-1(全周);5-2(全周): the class of first period on Wednesday and second period on Friday.\n",
      "（3）(全周): no specific weekday-period.\n",
      "\n",
      "\n",
      "— Course Data Description and Examples — \n",
      "一共有 173 门课程, 其中\n",
      "主讲教师（共68位）: 张芬, 冯硝, 姚家燕, 邢沁妍, 李蕉, 章纪民, 晏平, 周旻, 任炬, 李君然, 张小平, 佘曼榕, 薛亘华, 舒文, 徐帆, 贺曦鸣, 王振波, 毛君, 欧阳军喜, 梁文恺, 周树云, 张金松, 彭雁, 陈豪, 易陈谊, 薛静, 刘知远, 王宪明, 邓耿, 李岩松, 李玓, 贾雯旭, 王佳平, 窦吉芳, 黄民烈, 余京智, 崔建莲, 耿弘明, 王俊林, 朱垚颖, 黄振萍, 魏洋, 吴起民, 李轶男, 李正新, 杜春光, 崔勇, 季帅华, 王晓峰, 李玉蓉, 史灵生, 张有宏, 严程, 高策, 米真, 夏清, 王缅, 晏冰, 何珂, 雍俊海, 程祥钰, 林润亮, 杨一龙, 杨利军, 张熙, 苏婧, 黄晔辉, 张留碗\n",
      "课程名称（共9门）: 微积分A(2), 写作与沟通, 大学物理B(1), 一年级女生体育(2), 离散数学(2), 高等线性代数选讲, 英语(2), 中国近现代史纲要, 面向对象程序设计基础\n",
      "开课院系（共8个）: 计算机系, 数学教学中心, 软件学院, 物理系, 体育部, 人文学院, 马克思主义学院, 语言中心\n",
      "上课时间（共20个时段）: 5-3(全周), 3-2(全周), 4-6(全周), 3-1(全周), 2-3(全周), 2-6(全周), 1-6(全周), 3-3(全周), 2-2(全周), 1-1(全周), 1-4(全周), 4-2(全周), 1-2(全周), 5-1(全周), 5-6(全周), 1-3(全周), 2-1(全周), 5-2(全周), 3-6(全周), 4-1(全周)\n",
      "\n",
      "示例课程(共3门):\n",
      "  1. {'课程名': '面向对象程序设计基础', '主讲教师': '雍俊海', '学分': '2', '上课时间': '2-3(全周)', '开课院系': '软件学院', '掉课率': '49.35'}\n",
      "  2. {'课程名': '面向对象程序设计基础', '主讲教师': '任炬', '学分': '2', '上课时间': '2-3(全周)', '开课院系': '计算机系', '掉课率': '15.45'}\n",
      "  3. {'课程名': '面向对象程序设计基础', '主讲教师': '黄民烈', '学分': '2', '上课时间': '1-1(全周)', '开课院系': '计算机系', '掉课率': '12.19'}\n",
      "        \n",
      "— Examples —\n",
      "1.\n",
      "Instruction: 总学分不超过26\n",
      "Reasoning: Strip condition “不超过” and parameter “26”.\n",
      "Output: {“entities”: [“总学分”]}\n",
      "\n",
      "2.\n",
      "Instruction: 周三下午的课不超过2节\n",
      "Reasoning: Remove condition “不超过” and parameter “2节”, map “下午” to periods [3,4,5] on Wednesday.\n",
      "Output: {“entities”: [“星期三并且上课节次为[3,4,5]的课程数量”]}\n",
      "\n",
      "3.\n",
      "Instruction: 大物要张留碗老师\n",
      "Reasoning: Focus on stating the entity using course name and instructor.\n",
      "Output: {“entities”: [“课程名是’大学物理A’且主讲教师是’张留碗’的课程数量”]}\n",
      "\n",
      "4.\n",
      "Instruction: 周四不要有课, 多选课\n",
      "Reasoning: Remove condition “不要” and “多”, identifying entities “周四的课程数量” and “总课程数量”.\n",
      "Output: {“entities”: [“星期四的课程数量”, “总课程数量”]}\n",
      "\n",
      "5. \n",
      "Instruction: 早上第一节课尽可能少\n",
      "Reasoning: Remove condition “尽可能少”, map “早上” to periods [1,2], and combine with “第一节课” to get period [1].\n",
      "Output: {“entities”: [“上课节次为[1]的课程数量”]}\n",
      "\n",
      "— Output Requirements —\n",
      "Provide extracted entities in JSON format: {“entities”: [“”, “”]}\n",
      " \n",
      "\n",
      " user: \n",
      "— User Instruction —\n",
      "下午的课要1节\n",
      "\n"
     ]
    }
   ],
   "source": [
    "from dotenv import load_dotenv\n",
    "load_dotenv('/Users/jokwon/Desktop/IterOpti-web/back/.env')\n",
    "from components.scheduler import extract_entities, template_retrieval, parameter_filling, template_generation, items_description\n",
    "instruction = \"下午的课要1节\"\n",
    "entitis = extract_entities(instruction, items, items_description, True)\n"
   ]
  },
  {
   "cell_type": "code",
   "execution_count": 3,
   "metadata": {},
   "outputs": [
    {
     "name": "stdout",
     "output_type": "stream",
     "text": [
      "{\n",
      "    \"exact_match\": true,\n",
      "    \"template_ids\": [2],\n",
      "    \"explanation\": \"The entity '上课节次为[3,4,5]的课程数量' directly matches the template description for template_id 2, which is designed to count courses based on specific class periods.\"\n",
      "}\n",
      "=== template_retrieval prompt===\n",
      " system: \n",
      "Given entity extracted from user's instruction, identify related template from a predefined list.\n",
      "\n",
      "— Template List —\n",
      "template_id, description\n",
      "1, 主讲教师为<teacher_name>的课程数量\n",
      "2, 上课节次为<periods>的课程数量\n",
      "3, 星期<day>的课程数量\n",
      "4, 星期<day>并且上课节次为<periods>的课程数量\n",
      "5, 课程名包含<keyword>的课程数量\n",
      "6, 课程名属于<course_list>的课程数量\n",
      "7, 课程名为<course_name>并且主讲教师为<teacher_name>的课程数量\n",
      "8, 开课院系为<department>的课程数量\n",
      "9, 选中课程的总学分\n",
      "10, 选中课程数量\n",
      "11, 一周内连续两节课都上课的次数\n",
      "12, 同一天内同时选中第二节课和第三节课的次数\n",
      "\n",
      "— Analysis Steps —\n",
      "1. Determine whether there exists a template that can exactly represent the given entities. If so, set exact_match to True; otherwise, set it to False.\n",
      "2. If exact_match is True, return the corresponding template_id. If False, return a list of related template IDs from template_list to assist in future template generation.\n",
      "\n",
      "— Output Requirements —\n",
      "Output the result in JSON format:\n",
      "{\n",
      "    \"exact_match\": True | False, # bool, whether the instruction can be represented exactly\n",
      "    \"template_ids\": [3] |[1, 3, 5], # list of int, list of relevant template IDs\n",
      "    \"explanation\": “Brief explanation of why these concepts were chosen”\n",
      "}\n",
      ", \n",
      "\n",
      " user: \n",
      "- instruction -\n",
      "下午的课要1节\n",
      "\n",
      "- entities -\n",
      "['上课节次为[3,4,5]的课程数量']\n",
      "\n"
     ]
    },
    {
     "data": {
      "text/plain": [
       "{'exact_match': True,\n",
       " 'template_ids': [2],\n",
       " 'explanation': \"The entity '上课节次为[3,4,5]的课程数量' directly matches the template description for template_id 2, which is designed to count courses based on specific class periods.\"}"
      ]
     },
     "execution_count": 3,
     "metadata": {},
     "output_type": "execute_result"
    }
   ],
   "source": [
    "template_retrieval(instruction, entitis, items_description, True)"
   ]
  },
  {
   "cell_type": "code",
   "execution_count": null,
   "metadata": {},
   "outputs": [],
   "source": []
  }
 ],
 "metadata": {
  "kernelspec": {
   "display_name": "gpt3.5-turbo",
   "language": "python",
   "name": "python3"
  },
  "language_info": {
   "codemirror_mode": {
    "name": "ipython",
    "version": 3
   },
   "file_extension": ".py",
   "mimetype": "text/x-python",
   "name": "python",
   "nbconvert_exporter": "python",
   "pygments_lexer": "ipython3",
   "version": "3.10.10"
  }
 },
 "nbformat": 4,
 "nbformat_minor": 2
}
