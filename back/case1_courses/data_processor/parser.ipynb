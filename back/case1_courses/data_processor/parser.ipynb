{
 "cells": [
  {
   "cell_type": "code",
   "execution_count": 2,
   "metadata": {},
   "outputs": [
    {
     "name": "stdout",
     "output_type": "stream",
     "text": [
      "CSV file 'courses.csv' has been created.\n"
     ]
    }
   ],
   "source": [
    "import csv\n",
    "from bs4 import BeautifulSoup\n",
    "\n",
    "rows = []\n",
    "for i in range(6):\n",
    "    with open(f'cs/course_{i+1}.txt','r',encoding='utf-8') as file:\n",
    "        html_content = file.read()\n",
    "\n",
    "    # Parse the HTML using BeautifulSoup\n",
    "    soup = BeautifulSoup(html_content, 'html.parser')\n",
    "\n",
    "    # Extract the headers\n",
    "    headers = [header.get_text(strip=True) for header in soup.find_all('td')[:16]]\n",
    "\n",
    "    # Extract the rows\n",
    "    for row in soup.find_all('tr', class_='trr2'):\n",
    "        cells = row.find_all('td')\n",
    "        row_data = [cell.get_text(strip=True) for cell in cells]\n",
    "        rows.append(row_data)\n",
    "\n",
    "# Write to CSV\n",
    "with open('courses.csv', 'w', newline='', encoding='utf-8') as csvfile:\n",
    "    writer = csv.writer(csvfile)\n",
    "    writer.writerow(headers)  # Write header row\n",
    "    writer.writerows(rows)  # Write data rows\n",
    "\n",
    "print(\"CSV file 'courses.csv' has been created.\")"
   ]
  }
 ],
 "metadata": {
  "kernelspec": {
   "display_name": "gpt3.5-turbo",
   "language": "python",
   "name": "python3"
  },
  "language_info": {
   "codemirror_mode": {
    "name": "ipython",
    "version": 3
   },
   "file_extension": ".py",
   "mimetype": "text/x-python",
   "name": "python",
   "nbconvert_exporter": "python",
   "pygments_lexer": "ipython3",
   "version": "3.10.10"
  }
 },
 "nbformat": 4,
 "nbformat_minor": 2
}
